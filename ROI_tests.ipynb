{
 "cells": [
  {
   "cell_type": "markdown",
   "id": "8ee84233-c5a2-48a9-ac2b-2d9578164fc6",
   "metadata": {},
   "source": [
    "# ROI testing\n",
    "Using German Credit data, compare `Predicted ROI` and `Actual ROI`"
   ]
  },
  {
   "cell_type": "code",
   "execution_count": 1,
   "id": "3d0848b6-02a2-471d-b06d-a44a5a72952a",
   "metadata": {},
   "outputs": [],
   "source": [
    "import pandas\n",
    "from sklearn.metrics import classification_report"
   ]
  },
  {
   "cell_type": "code",
   "execution_count": 2,
   "id": "5b93b5fa-0e80-4f7c-9323-1659a4f3b0ec",
   "metadata": {
    "tags": []
   },
   "outputs": [],
   "source": [
    "def get_type(row):\n",
    "    if row['score'] == row['label_value']:\n",
    "        if row['score'] == 0:\n",
    "            return 'TN'\n",
    "        else:\n",
    "            return 'TP'\n",
    "    else:\n",
    "        if row['score'] == 0:\n",
    "            return 'FN'\n",
    "        else:\n",
    "            return 'FP'"
   ]
  },
  {
   "cell_type": "code",
   "execution_count": 3,
   "id": "f0cbef2f-8967-4175-a9fa-bdfda96b8a70",
   "metadata": {},
   "outputs": [],
   "source": [
    "cost_matrix = {\n",
    "    \"TP\": 1.5,\n",
    "    \"FP\": -2,\n",
    "    \"TN\": 2,\n",
    "    \"FN\": -1.5,\n",
    "}"
   ]
  },
  {
   "cell_type": "code",
   "execution_count": 4,
   "id": "e3acbc4b-7ead-4fb0-821a-d98661810210",
   "metadata": {},
   "outputs": [],
   "source": [
    "df_baseline = pandas.read_json('df_baseline_scored.json', orient='records', lines=True)\n",
    "df_sample = pandas.read_json('df_sample_scored.json', orient='records', lines=True)"
   ]
  },
  {
   "cell_type": "code",
   "execution_count": 5,
   "id": "3fcea236-1503-468d-94db-e6efed7948d6",
   "metadata": {},
   "outputs": [],
   "source": [
    "df_baseline = df_baseline[['credit_amount', 'label_value', 'score']]\n",
    "df_sample = df_sample[['credit_amount', 'label_value', 'score']]"
   ]
  },
  {
   "cell_type": "code",
   "execution_count": 6,
   "id": "02acb4ee-df30-4876-a860-faaad22ad791",
   "metadata": {},
   "outputs": [],
   "source": [
    "baseline_metrics = classification_report(df_baseline['label_value'], df_baseline['score'], output_dict=True)\n",
    "baseline_TPR = baseline_metrics['1']['recall']\n",
    "baseline_TNR = baseline_metrics['0']['recall']"
   ]
  },
  {
   "cell_type": "code",
   "execution_count": 7,
   "id": "22eba8e2-b572-49c6-bb72-e9ddd7eba680",
   "metadata": {},
   "outputs": [],
   "source": [
    "df_baseline['type'] = df_baseline.apply(get_type, axis=1)\n",
    "df_sample['type'] = df_sample.apply(get_type, axis=1)"
   ]
  },
  {
   "cell_type": "code",
   "execution_count": 8,
   "id": "7269f885-cadf-4cf5-ae98-f0e298274ef1",
   "metadata": {},
   "outputs": [
    {
     "name": "stdout",
     "output_type": "stream",
     "text": [
      "567,907.73\n"
     ]
    }
   ],
   "source": [
    "predicted = 0\n",
    "for ix, row in df_sample.iterrows():\n",
    "    if row['score'] == 0:\n",
    "        predicted += row['credit_amount'] * (baseline_TNR * cost_matrix['TN'] + (1 - baseline_TNR) * cost_matrix['FN'])\n",
    "    else:\n",
    "        predicted += row['credit_amount'] * (baseline_TPR * cost_matrix['TP'] + (1 - baseline_TPR) * cost_matrix['FP'])\n",
    "print(f'{round(predicted, 2):,}')"
   ]
  },
  {
   "cell_type": "code",
   "execution_count": 9,
   "id": "fb4e11cd-8773-4e19-9823-cb3f7b042409",
   "metadata": {},
   "outputs": [
    {
     "name": "stdout",
     "output_type": "stream",
     "text": [
      "389,654.5\n"
     ]
    }
   ],
   "source": [
    "actual = 0\n",
    "for ix, row in df_sample.iterrows():\n",
    "    actual += row['credit_amount'] * cost_matrix[row['type']]\n",
    "print(f'{round(actual, 2):,}')"
   ]
  },
  {
   "cell_type": "code",
   "execution_count": 28,
   "id": "9f1f9401-a8e6-447f-a05d-65f018fe8225",
   "metadata": {},
   "outputs": [
    {
     "name": "stdout",
     "output_type": "stream",
     "text": [
      "Difference of $178,253.23\n",
      "Difference of 46.0%\n"
     ]
    }
   ],
   "source": [
    "print(f'Difference of ${round(abs(actual-predicted), 2):,}')\n",
    "print(f'Difference of {100*round(abs((actual-predicted)/actual)}%')"
   ]
  },
  {
   "cell_type": "code",
   "execution_count": 15,
   "id": "ba2d42d5-7902-4af9-a077-547ffc2f3cea",
   "metadata": {},
   "outputs": [],
   "source": [
    "sample_metrics = classification_report(df_sample['label_value'], df_sample['score'], output_dict=True)\n",
    "sample_TPR = sample_metrics['1']['recall']\n",
    "sample_TNR = sample_metrics['0']['recall']"
   ]
  },
  {
   "cell_type": "code",
   "execution_count": 32,
   "id": "f7c2576e-64dd-4726-8e9a-b33bdba5de1d",
   "metadata": {},
   "outputs": [
    {
     "name": "stdout",
     "output_type": "stream",
     "text": [
      "TNR Percent difference of 9.0%\n"
     ]
    }
   ],
   "source": [
    "print(f'TNR Percent difference of {round((baseline_TNR - sample_TNR)/baseline_TNR, 3) * 100}%')"
   ]
  },
  {
   "cell_type": "code",
   "execution_count": 33,
   "id": "2f10d562-1468-444f-95eb-e0a859b00f35",
   "metadata": {},
   "outputs": [
    {
     "name": "stdout",
     "output_type": "stream",
     "text": [
      "TPR Percent difference of 6.3%\n"
     ]
    }
   ],
   "source": [
    "print(f'TPR Percent difference of {round((baseline_TPR - sample_TPR)/baseline_TPR, 3) * 100}%')"
   ]
  },
  {
   "cell_type": "code",
   "execution_count": 37,
   "id": "550e4157-3da1-41f8-8c73-3925324f2a8a",
   "metadata": {},
   "outputs": [],
   "source": [
    "# modelop.init\n",
    "def begin():\n",
    "    \"\"\"A function to declare model-specific variables used in ROI computation\"\"\"\n",
    "    global amount_field, label_field, score_field\n",
    "    global baseline_metrics, cost_multipliers\n",
    "\n",
    "    amount_field = \"credit_amount\"  # Column containing transaction amount\n",
    "    label_field = \"label_value\"  # Column containing ground_truth\n",
    "    score_field = \"score\"  # Column containing model prediction\n",
    "\n",
    "    # Classification metrics on baseline data\n",
    "    baseline_metrics = {\n",
    "        # old TNR\n",
    "        \"TNR\": .88,\n",
    "        # changing old TPR value of 0.2435474006116208\n",
    "        \"TPR\": .7,\n",
    "    }\n",
    "    # ROI cost multipliers for each classification case\n",
    "    cost_multipliers = {\n",
    "        \"TP\": 1.5,\n",
    "        \"FP\": -2,\n",
    "        \"TN\": 2,\n",
    "        \"FN\": -1.5,\n",
    "    }\n",
    "    pass"
   ]
  },
  {
   "cell_type": "code",
   "execution_count": 38,
   "id": "73674a6e-01c3-455b-9ec8-35f1fbe63e74",
   "metadata": {},
   "outputs": [],
   "source": [
    "# modelop.metrics\n",
    "def metrics(df_sample):\n",
    "    \"\"\"Function to classify records & compute actual ROI given labeled & scored DataFrame.\n",
    "\n",
    "    Args:\n",
    "        df_sample (pd.DataFrame): Slice of Production data\n",
    "\n",
    "    Yields:\n",
    "        dict: Name of transaction field and actual ROI\n",
    "    \"\"\"\n",
    "\n",
    "    # Classify each record in dataframe\n",
    "    # Positive Class Labeled as 1\n",
    "    # Negative Class labeled as 0\n",
    "\n",
    "    for idx in range(len(df_sample)):\n",
    "        if df_sample.iloc[idx][label_field] == df_sample.iloc[idx][score_field]:\n",
    "            df_sample[\"record_class\"] = (\n",
    "                \"TP\" if df_sample.iloc[idx][label_field] == 1 else \"TN\"\n",
    "            )\n",
    "        elif df_sample.iloc[idx][label_field] < df_sample.iloc[idx][score_field]:\n",
    "            df_sample[\"record_class\"] = \"FP\"\n",
    "        else:\n",
    "            df_sample[\"record_class\"] = \"FN\"\n",
    "\n",
    "    # Compute actual and projected ROIs\n",
    "    actual_roi = compute_actual_roi(df_sample)\n",
    "    projected_roi = compute_projected_roi(df_sample)\n",
    "\n",
    "    return {\n",
    "        \"actual_roi\": actual_roi,\n",
    "        \"projected_roi\": projected_roi,\n",
    "        \"amount_field\": amount_field,\n",
    "        \"ROI\": [\n",
    "            {\n",
    "                \"test_name\": \"ROI\",\n",
    "                \"test_category\": \"ROI\",\n",
    "                \"test_type\": \"ROI\",\n",
    "                \"test_id\": \"ROI\",\n",
    "                \"values\": {\n",
    "                    \"actual_roi\": actual_roi,\n",
    "                    \"projected_roi\": projected_roi,\n",
    "                    \"amount_field\": amount_field,\n",
    "                    \"baseline_metrics\": baseline_metrics,\n",
    "                    \"cost_multipliers\": cost_multipliers,\n",
    "                },\n",
    "            }\n",
    "        ],\n",
    "    }"
   ]
  },
  {
   "cell_type": "code",
   "execution_count": 39,
   "id": "6f8d6aa7-4889-42f5-aa37-0e4a25f4abb5",
   "metadata": {},
   "outputs": [],
   "source": [
    "def compute_actual_roi(data):\n",
    "    \"\"\"Helper function to compute actual ROI.\n",
    "\n",
    "    Args:\n",
    "        data (pd.DataFrame): Input DataFrame containing record_class\n",
    "\n",
    "    Returns:\n",
    "        float: actual ROI\n",
    "    \"\"\"\n",
    "    actual_roi = 0\n",
    "    for idx in range(len(data)):\n",
    "        actual_roi += (\n",
    "            data.iloc[idx][amount_field]\n",
    "            * cost_multipliers[data.iloc[idx][\"record_class\"]]\n",
    "        )\n",
    "\n",
    "    return round(actual_roi, 2)"
   ]
  },
  {
   "cell_type": "code",
   "execution_count": 45,
   "id": "3ebb370a-6ee1-4bc9-b378-d0bdac3b099d",
   "metadata": {},
   "outputs": [],
   "source": [
    "def compute_projected_roi(data):\n",
    "    \"\"\"Helper function to compute projected ROI.\n",
    "\n",
    "    Args:\n",
    "        data (pd.DataFrame): Input DataFrame containing record_class\n",
    "\n",
    "    Returns:\n",
    "        float: projected ROI\n",
    "    \"\"\"\n",
    "    projected_roi = 0\n",
    "    for idx in range(len(data)):\n",
    "        projected_roi += data.iloc[idx][amount_field] * (\n",
    "            (data.iloc[idx][score_field] == 1)\n",
    "            * (\n",
    "                baseline_metrics[\"TPR\"] * cost_multipliers[\"TP\"]\n",
    "                + (1 - baseline_metrics[\"TPR\"] * cost_multipliers[\"FP\"])\n",
    "            )\n",
    "            + (data.iloc[idx][score_field] == 0)\n",
    "            * (\n",
    "                baseline_metrics[\"TNR\"] * cost_multipliers[\"TN\"]\n",
    "                + (1 - baseline_metrics[\"TNR\"] * cost_multipliers[\"FN\"])\n",
    "            )\n",
    "        )\n",
    "\n",
    "    return round(projected_roi, 2)"
   ]
  },
  {
   "cell_type": "code",
   "execution_count": 46,
   "id": "3d5ec209-07e0-493b-b218-ceb507934c51",
   "metadata": {},
   "outputs": [],
   "source": [
    "def parse_results(results):\n",
    "    print(f\"Actual ROI : {round(results['actual_roi']):,}\")\n",
    "    print(f\"Projected ROI : {round(results['projected_roi']):,}\")"
   ]
  },
  {
   "cell_type": "code",
   "execution_count": 47,
   "id": "60ba9a55-7390-4b89-86b2-95cb5dc7c730",
   "metadata": {},
   "outputs": [],
   "source": [
    "begin()"
   ]
  },
  {
   "cell_type": "code",
   "execution_count": 48,
   "id": "4e14cdec-ef80-4500-8870-d9192055aa08",
   "metadata": {},
   "outputs": [],
   "source": [
    "results = metrics(df)"
   ]
  },
  {
   "cell_type": "code",
   "execution_count": 49,
   "id": "d10ef433-0c02-41f1-b32b-a595de9c6a72",
   "metadata": {},
   "outputs": [
    {
     "name": "stdout",
     "output_type": "stream",
     "text": [
      "Actual ROI : 5,184,598\n",
      "Projected ROI : 9,802,546\n"
     ]
    }
   ],
   "source": [
    "parse_results(results)"
   ]
  },
  {
   "cell_type": "code",
   "execution_count": null,
   "id": "1d3a3e2c-fb7d-4d7a-bb1a-dda53b60bf3f",
   "metadata": {},
   "outputs": [],
   "source": []
  }
 ],
 "metadata": {
  "kernelspec": {
   "display_name": "Python 3 (ipykernel)",
   "language": "python",
   "name": "python3"
  },
  "language_info": {
   "codemirror_mode": {
    "name": "ipython",
    "version": 3
   },
   "file_extension": ".py",
   "mimetype": "text/x-python",
   "name": "python",
   "nbconvert_exporter": "python",
   "pygments_lexer": "ipython3",
   "version": "3.8.5"
  }
 },
 "nbformat": 4,
 "nbformat_minor": 5
}
